{
 "cells": [
  {
   "cell_type": "markdown",
   "metadata": {},
   "source": [
    "code to create a baseline pandemic flu simulation\n"
   ]
  },
  {
   "cell_type": "code",
   "execution_count": 35,
   "metadata": {},
   "outputs": [
    {
     "name": "stdout",
     "output_type": "stream",
     "text": [
      "Hello Github 125\n"
     ]
    }
   ],
   "source": [
    "import pandas as pd\n",
    "import numpy as np\n",
    "from scipy.spatial import distance_matrix\n",
    "from random import randrange,randint,uniform,random,sample\n",
    "from timeit import default_timer as timer\n",
    "from scipy.spatial.distance import cdist\n",
    "import matplotlib.pyplot as plt\n",
    "import numpy as np\n",
    "print(\"Hello Github 125\")\n",
    "threshold=6\n",
    "cfr=0.1\n",
    "quarantine=True\n",
    "Num_days = 50\n",
    "num_ppl = 1000\n",
    "movement = 10\n",
    "move_sdev = 5\n",
    "size_min = 0\n",
    "size_max = 500"
   ]
  },
  {
   "cell_type": "markdown",
   "metadata": {},
   "source": [
    "Initializing a dataframe of 1000 'people' in a 2-dimensional space with various attributes. "
   ]
  },
  {
   "cell_type": "code",
   "execution_count": 36,
   "metadata": {},
   "outputs": [],
   "source": [
    "def initialize():\n",
    "    \n",
    "\n",
    "    # various attributes of each person\n",
    "    per_num = []\n",
    "    x_pos = []\n",
    "    y_pos = []\n",
    "    infected = []\n",
    "    time_infected = []\n",
    "    recovered = []\n",
    "    immune = []\n",
    "    alive = []\n",
    "\n",
    "\n",
    "    #for person number, x_pos and y_pos, we set these for each individaul\n",
    "\n",
    "    for i in range(0,num_ppl):\n",
    "        per_num.append(i)\n",
    "        x_pos.append(np.random.randint(size_min,size_max))\n",
    "        y_pos.append(np.random.randint(size_min,size_max))\n",
    "\n",
    "\n",
    "    # for infected, time_infected, and alive, we set these for all people to start with default values\n",
    "    infected = [0]*num_ppl\n",
    "    time_infected = [np.NaN]*num_ppl\n",
    "    alive = [1]*num_ppl\n",
    "    recovered = [0]*num_ppl\n",
    "    immune = [0]*num_ppl\n",
    "\n",
    "    population = pd.DataFrame(list(zip(per_num, x_pos, y_pos, infected, time_infected, recovered, immune, alive)),\n",
    "                              columns = [\"per_num\", \"x_pos\", \"y_pos\", \"infected\",  \n",
    "                                         \"time_infected\", \"recovered\", \"immune\",\"alive\"])\n",
    "    rand=[randint(0, num_ppl) for p in range(0, 20)]\n",
    "    print(rand)\n",
    "    population.loc[rand, 'infected'] = 1\n",
    "    population.loc[rand, 'time_infected'] = 0\n",
    "    print(population)\n",
    "    return population"
   ]
  },
  {
   "cell_type": "markdown",
   "metadata": {},
   "source": [
    "Now we infect patient 0 in our pandemic "
   ]
  },
  {
   "cell_type": "code",
   "execution_count": null,
   "metadata": {},
   "outputs": [],
   "source": []
  },
  {
   "cell_type": "markdown",
   "metadata": {},
   "source": [
    "Setting up parameters and logs for the simulation"
   ]
  },
  {
   "cell_type": "code",
   "execution_count": 37,
   "metadata": {},
   "outputs": [],
   "source": [
    "def initiate_distance_matrix(population):\n",
    "    \n",
    "    # Setting parameters for movement of our simulated people \n",
    "    #the average person moves X units on the x axis and 10 units in the y axis. \n",
    "    #creating a log for the movement of patient zero (who we infect) & a random person (we'll pick person 25)\n",
    "\n",
    "    p_zero = {'day':[], 'xpos':[], 'ypos':[]}\n",
    "\n",
    "    p_rand = {'day':[], 'xpos':[], 'ypos':[]}\n",
    "\n",
    "    infected_array = population.loc[(population['infected'] == 1), 'x_pos':'y_pos']\n",
    "    pop_pos_array = population.loc[:, 'x_pos':'y_pos']\n",
    "\n",
    "    #Initial distance matrix\n",
    "    mtx0 = distance_matrix( pop_pos_array, infected_array)\n",
    "    return mtx0"
   ]
  },
  {
   "cell_type": "markdown",
   "metadata": {},
   "source": [
    "Running the simulation"
   ]
  },
  {
   "cell_type": "code",
   "execution_count": 38,
   "metadata": {},
   "outputs": [
    {
     "name": "stdout",
     "output_type": "stream",
     "text": [
      "[458, 906, 892, 758, 982, 762, 868, 216, 119, 460, 443, 432, 64, 683, 345, 47, 224, 902, 218, 803]\n",
      "     per_num  x_pos  y_pos  infected  time_infected  recovered  immune  alive\n",
      "0          0    308    215         0            NaN          0       0      1\n",
      "1          1    432    394         0            NaN          0       0      1\n",
      "2          2    385    244         0            NaN          0       0      1\n",
      "3          3    263    467         0            NaN          0       0      1\n",
      "4          4    215     72         0            NaN          0       0      1\n",
      "..       ...    ...    ...       ...            ...        ...     ...    ...\n",
      "995      995    490    416         0            NaN          0       0      1\n",
      "996      996    278     10         0            NaN          0       0      1\n",
      "997      997    379     26         0            NaN          0       0      1\n",
      "998      998    313    209         0            NaN          0       0      1\n",
      "999      999    205    248         0            NaN          0       0      1\n",
      "\n",
      "[1000 rows x 8 columns]\n"
     ]
    },
    {
     "ename": "NameError",
     "evalue": "name 'p_zero' is not defined",
     "output_type": "error",
     "traceback": [
      "\u001b[0;31m---------------------------------------------------------------------------\u001b[0m",
      "\u001b[0;31mNameError\u001b[0m                                 Traceback (most recent call last)",
      "\u001b[0;32m<ipython-input-38-d19f7e287444>\u001b[0m in \u001b[0;36m<module>\u001b[0;34m\u001b[0m\n\u001b[1;32m    149\u001b[0m \u001b[0mpop1\u001b[0m\u001b[0;34m=\u001b[0m\u001b[0minitialize\u001b[0m\u001b[0;34m(\u001b[0m\u001b[0;34m)\u001b[0m\u001b[0;34m\u001b[0m\u001b[0;34m\u001b[0m\u001b[0m\n\u001b[1;32m    150\u001b[0m \u001b[0mmtx0\u001b[0m\u001b[0;34m=\u001b[0m\u001b[0minitiate_distance_matrix\u001b[0m\u001b[0;34m(\u001b[0m\u001b[0mpop1\u001b[0m\u001b[0;34m)\u001b[0m\u001b[0;34m\u001b[0m\u001b[0;34m\u001b[0m\u001b[0m\n\u001b[0;32m--> 151\u001b[0;31m \u001b[0msimulate\u001b[0m\u001b[0;34m(\u001b[0m\u001b[0mpop1\u001b[0m\u001b[0;34m,\u001b[0m\u001b[0maxs\u001b[0m\u001b[0;34m[\u001b[0m\u001b[0;36m0\u001b[0m\u001b[0;34m]\u001b[0m\u001b[0;34m,\u001b[0m\u001b[0mmtx0\u001b[0m\u001b[0;34m)\u001b[0m\u001b[0;34m\u001b[0m\u001b[0;34m\u001b[0m\u001b[0m\n\u001b[0m\u001b[1;32m    152\u001b[0m \u001b[0;34m\u001b[0m\u001b[0m\n\u001b[1;32m    153\u001b[0m \u001b[0;34m\u001b[0m\u001b[0m\n",
      "\u001b[0;32m<ipython-input-38-d19f7e287444>\u001b[0m in \u001b[0;36msimulate\u001b[0;34m(population, axs, mtx0)\u001b[0m\n\u001b[1;32m    113\u001b[0m         \u001b[0;31m#update the log each day:\u001b[0m\u001b[0;34m\u001b[0m\u001b[0;34m\u001b[0m\u001b[0;34m\u001b[0m\u001b[0m\n\u001b[1;32m    114\u001b[0m         \u001b[0;31m#path of patient zero\u001b[0m\u001b[0;34m\u001b[0m\u001b[0;34m\u001b[0m\u001b[0;34m\u001b[0m\u001b[0m\n\u001b[0;32m--> 115\u001b[0;31m         \u001b[0mp_zero\u001b[0m\u001b[0;34m[\u001b[0m\u001b[0;34m'day'\u001b[0m\u001b[0;34m]\u001b[0m\u001b[0;34m.\u001b[0m\u001b[0mappend\u001b[0m\u001b[0;34m(\u001b[0m\u001b[0mday\u001b[0m\u001b[0;34m)\u001b[0m\u001b[0;34m\u001b[0m\u001b[0;34m\u001b[0m\u001b[0m\n\u001b[0m\u001b[1;32m    116\u001b[0m         \u001b[0mp_zero\u001b[0m\u001b[0;34m[\u001b[0m\u001b[0;34m'xpos'\u001b[0m\u001b[0;34m]\u001b[0m\u001b[0;34m.\u001b[0m\u001b[0mappend\u001b[0m\u001b[0;34m(\u001b[0m\u001b[0mpopulation\u001b[0m\u001b[0;34m.\u001b[0m\u001b[0mloc\u001b[0m\u001b[0;34m[\u001b[0m\u001b[0;36m0\u001b[0m\u001b[0;34m,\u001b[0m\u001b[0;34m'x_pos'\u001b[0m\u001b[0;34m]\u001b[0m\u001b[0;34m)\u001b[0m\u001b[0;34m\u001b[0m\u001b[0;34m\u001b[0m\u001b[0m\n\u001b[1;32m    117\u001b[0m         \u001b[0mp_zero\u001b[0m\u001b[0;34m[\u001b[0m\u001b[0;34m'ypos'\u001b[0m\u001b[0;34m]\u001b[0m\u001b[0;34m.\u001b[0m\u001b[0mappend\u001b[0m\u001b[0;34m(\u001b[0m\u001b[0mpopulation\u001b[0m\u001b[0;34m.\u001b[0m\u001b[0mloc\u001b[0m\u001b[0;34m[\u001b[0m\u001b[0;36m0\u001b[0m\u001b[0;34m,\u001b[0m\u001b[0;34m'y_pos'\u001b[0m\u001b[0;34m]\u001b[0m\u001b[0;34m)\u001b[0m\u001b[0;34m\u001b[0m\u001b[0;34m\u001b[0m\u001b[0m\n",
      "\u001b[0;31mNameError\u001b[0m: name 'p_zero' is not defined"
     ]
    },
    {
     "data": {
      "image/png": "[encoded data removed]",
      "text/plain": [
       "<Figure size 432x288 with 2 Axes>"
      ]
     },
     "metadata": {
      "needs_background": "light"
     },
     "output_type": "display_data"
    }
   ],
   "source": [
    "# def movePeopleUsingDistribution(population):\n",
    "#     for p in range(0,num_ppl):\n",
    "#         #next, adjust movement (right now, everyone moves an average of 10 units each day)\n",
    "#         #the first part creates a random variable from a normal dist. the second determines if it is positive or negative\n",
    "#         x_move = np.random.normal(movement,move_sdev) * (-1 + 2*np.random.binomial(1,0.5))\n",
    "#         y_move = np.random.normal(movement,move_sdev) * (-1 + 2*np.random.binomial(1,0.5))\n",
    "\n",
    "#         if ((population.loc[p,'x_pos'] + x_move) < size_max) & ((population.loc[p,'x_pos'] + x_move) > size_min) :\n",
    "#             population.loc[p,'x_pos'] = population.loc[p,'x_pos'] + x_move\n",
    "#         else: \n",
    "#             population.loc[p,'x_pos'] = population.loc[p,'x_pos'] - x_move\n",
    "\n",
    "#         if ((population.loc[p,'y_pos'] + y_move) < size_max) & ((population.loc[p,'y_pos'] + y_move) > size_min) :\n",
    "#             population.loc[p,'y_pos'] = population.loc[p,'y_pos'] + y_move\n",
    "#         else: \n",
    "#             population.loc[p,'y_pos'] = population.loc[p,'y_pos'] - y_move\n",
    "#     return population\n",
    "\n",
    "# def movePeopleRandomly(population):\n",
    "#     population['x_pos'] = [random.uniform(size_min,size_max) for i in range(0,num_ppl)]\n",
    "#     population['y_pos'] = [random.uniform(size_min,size_max) for i in range(0,num_ppl)]\n",
    "#     return population\n",
    "\n",
    "\n",
    "# start = timer()\n",
    "# movePeopleUsingDistribution(population)\n",
    "# end = timer()\n",
    "# print(\"distribution: \",end-start)\n",
    "\n",
    "\n",
    "# start1 = timer()\n",
    "# movePeopleRandomly(population)\n",
    "# end1 = timer()\n",
    "# print(\"random positions: \",end1-start1)\n",
    "\n",
    "def simulate(population,axs,mtx0):\n",
    "    #creating a log for the simulation at each day\n",
    "    results = {'day':[], 'new_infections':[], 'infected':[], 'recovered':[], 'immune':[], 'alive':[]}\n",
    "\n",
    "    mtx = mtx0\n",
    "\n",
    "    for day in range(0, Num_days):\n",
    "        t11=timer()\n",
    "\n",
    "        new_infections = 0\n",
    "\n",
    "        #loop through the population to determine status, and then change their position\n",
    "        for p in range(0,num_ppl):\n",
    "            #first determine if they were infected\n",
    "            t1=timer()\n",
    "            if population.loc[p,'infected'] == 0 and population.loc[p,'immune'] == 0:\n",
    "                if(any(mtx[p]<=threshold)):\n",
    "                    population.loc[p,'infected'] = 1\n",
    "                    population.loc[p,'time_infected'] = day\n",
    "                    new_infections += 1\n",
    "    #                 print('person {p} infected on day {d}'.format(p = p, d = day))\n",
    "            t2=timer()         \n",
    "    #         print(\"time taken for new infections:\",t2-t1)\n",
    "\n",
    "            t3=timer()\n",
    "            #next, for sick people, determine if they are better\n",
    "            if (population.loc[p,'infected'] == 1 and population.loc[p,'alive'] == 1 and  (day - population.loc[p,'time_infected']) >14):\n",
    "                population.loc[p,'infected'] = 0\n",
    "                population.loc[p,'immune'] = 1\n",
    "                population.loc[p,'recovered'] = 1\n",
    "            t4=timer()         \n",
    "    #         print(\"time taken for recoveries:\",t4-t3)    \n",
    "\n",
    "\n",
    "\n",
    "            t5=timer()\n",
    "            #next, adjust movement (right now, everyone moves an average of 10 units each day)\n",
    "            #the first part creates a random variable from a normal dist. the second determines if it is positive or negative\n",
    "            x_move = np.random.normal(movement,move_sdev) * (-1 + 2*np.random.binomial(1,0.5))\n",
    "            y_move = np.random.normal(movement,move_sdev) * (-1 + 2*np.random.binomial(1,0.5))\n",
    "            if not(quarantine and population.loc[p,'infected'] == 1):\n",
    "                if ((population.loc[p,'x_pos'] + x_move) < size_max) & ((population.loc[p,'x_pos'] + x_move) > size_min) :\n",
    "                    population.loc[p,'x_pos'] = population.loc[p,'x_pos'] + x_move\n",
    "                else: \n",
    "                    population.loc[p,'x_pos'] = population.loc[p,'x_pos'] - x_move\n",
    "\n",
    "                if ((population.loc[p,'y_pos'] + y_move) < size_max) & ((population.loc[p,'y_pos'] + y_move) > size_min) :\n",
    "                    population.loc[p,'y_pos'] = population.loc[p,'y_pos'] + y_move\n",
    "                else: \n",
    "                    population.loc[p,'y_pos'] = population.loc[p,'y_pos'] - y_move\n",
    "\n",
    "            t6=timer()\n",
    "    #         print(\"new positions:\",t6-t5)\n",
    "            #now we need to make a new distance matrix\n",
    "            infected_array_day = population.loc[(population['infected'] == 1), 'x_pos':'y_pos']\n",
    "            pop_pos_array_day = population.loc[:, 'x_pos':'y_pos']\n",
    "\n",
    "#         list_of_infected=np.where((population[\"infected\"] ==1) & (population[\"alive\"]==1) & (population[\"time_infected\"]>14))[0]\n",
    "#         num_of_infected=len(list_of_infected)\n",
    "#         new_deaths=round(num_of_infected*cfr)\n",
    "# #         print(type(list_of_infected[0:]))\n",
    "# #         print(new_deaths)\n",
    "# #         print(list_of_infected.tolist())\n",
    "# #         print(type(list_of_infected.tolist()))\n",
    "#         pop_death_indices=random.sample(list_of_infected.tolist(), new_deaths)\n",
    "#         population.loc[pop_death_indices,'alive']=0;\n",
    "        \n",
    "        \n",
    "            \n",
    "        t7=timer()\n",
    "        #updated distance matrix\n",
    "        mtx = distance_matrix( pop_pos_array_day, infected_array_day)\n",
    "        t8 = timer()\n",
    "    #         print(\"new distance matrix:\",t8-t7)\n",
    "\n",
    "\n",
    "\n",
    "        #update the log each day: \n",
    "        #path of patient zero\n",
    "        p_zero['day'].append(day)\n",
    "        p_zero['xpos'].append(population.loc[0,'x_pos'])\n",
    "        p_zero['ypos'].append(population.loc[0,'y_pos'])\n",
    "\n",
    "        #path of a random person (25)\n",
    "        p_rand['day'].append(day)\n",
    "        p_rand['xpos'].append(population.loc[25,'x_pos'])\n",
    "        p_rand['ypos'].append(population.loc[25,'y_pos'])\n",
    "\n",
    "        #overall results\n",
    "\n",
    "        tot_infected = sum(population['infected'] == 1)\n",
    "        tot_recovered = sum(population['recovered'] == 1)\n",
    "        tot_immune = sum(population['immune'] == 1)\n",
    "        tot_alive = sum(population['alive'] == 1)\n",
    "        results['day'].append(day)\n",
    "        results['new_infections'].append(new_infections)\n",
    "        results['infected'].append(tot_infected)\n",
    "        results['recovered'].append(tot_recovered)     \n",
    "        results['immune'].append(tot_immune)  \n",
    "        results['alive'].append(tot_alive)\n",
    "        t12=timer()\n",
    "    #     print(\"overall one day simulations:\",t12-t11)\n",
    "\n",
    "        print('Day {0} | {1} newly infected | {2} total infected | {3} have recovered'.format(day, new_infections, tot_infected, tot_recovered))\n",
    "    res=pd.DataFrame(results)\n",
    "    display(res)\n",
    "    axs.plot(results[\"day\"], results[\"new_infections\"],label=\"new_infections\")\n",
    "    axs.plot(results[\"day\"], results[\"recovered\"], color='green',linewidth=1.0,label=\"recovered\")\n",
    "    axs.plot(results[\"day\"], results[\"infected\"],color='red', linewidth=1.0, linestyle='--',label=\"infected\")\n",
    "    axs.plot(results[\"day\"], results[\"alive\"],color='black', linewidth=1.0, linestyle='-.',label=\"alive\")\n",
    "\n",
    "fig, axs = plt.subplots(2)\n",
    "fig.suptitle('With quarantine v/s without quarantine')\n",
    "pop1=initialize()\n",
    "mtx0=initiate_distance_matrix(pop1)\n",
    "simulate(pop1,axs[0],mtx0)\n",
    "\n",
    "\n",
    "\n",
    "quarantine=False\n",
    "pop2=initialize()\n",
    "mtx0=initiate_distance_matrix(pop2)\n",
    "simulate(pop2,axs[1],mtx0)\n",
    "plt.show()"
   ]
  },
  {
   "cell_type": "code",
   "execution_count": null,
   "metadata": {},
   "outputs": [],
   "source": [
    "print(np.random.normal(movement,move_sdev)*(-1 + 2*np.random.binomial(1,0.5)))"
   ]
  },
  {
   "cell_type": "code",
   "execution_count": null,
   "metadata": {},
   "outputs": [],
   "source": []
  }
 ],
 "metadata": {
  "kernelspec": {
   "display_name": "Python 3",
   "language": "python",
   "name": "python3"
  },
  "language_info": {
   "codemirror_mode": {
    "name": "ipython",
    "version": 3
   },
   "file_extension": ".py",
   "mimetype": "text/x-python",
   "name": "python",
   "nbconvert_exporter": "python",
   "pygments_lexer": "ipython3",
   "version": "3.8.5"
  }
 },
 "nbformat": 4,
 "nbformat_minor": 5
}
